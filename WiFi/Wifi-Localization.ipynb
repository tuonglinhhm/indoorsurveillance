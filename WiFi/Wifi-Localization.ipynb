{
 "cells": [
  {
   "cell_type": "markdown",
   "metadata": {},
   "source": [
    "# Project Summary"
   ]
  },
  {
   "cell_type": "markdown",
   "metadata": {},
   "source": [
    "**Datasets**:    TrainingData.csv (training/validation set), ValidationData.csv (test set)\n",
    "\n",
    "**Scenario**:    Determine the feasbility of using Wi-Fi fingerprints indoor smartphone locationing.\n",
    "             \n",
    "**Goal**:        Benchmark 3 indoor locationing solutions using the UJIIndoorLoc dataset from http://archive.ics.uci.edu/ml/datasets/UJIIndoorLoc. In this script, we'll use a random forest classifier.\n",
    "             \n",
    "**Conclusion**:  Please read my \"Evaluate Techniques for Wi-Fi Locationing\" technical \n",
    "             report for full details of methodology and conclusions.\n",
    "             \n",
    "- Tuned random forest: \"RandomForestClassifier_model.sav\"\n",
    "  - criterion: gini\n",
    "  - max_depth: not limited\n",
    "  - max_features: sqrt (The number of features to consider when \n",
    "  - looking for the best split)\n",
    "  - n_estimators: 60 (number of trees in the forest)\n",
    "  \n",
    "             \n",
    "- Tuning insights: See \"tuning_rf.csv\" for results of all hyperparameter combinations tried. For this dataset, the Gini splitting criterion generally performed better. Limiting the maximum depth of trees hindered performance. Using the square root of the number of features as the number of features to consider at each split was better than log2 and any percentage between 30 to 90% of the total number of features. More trees generally reduced overfitting, but increased memory usage during training considerably. Due to limited PC memory, the number of trees was limited to 60 trees in the best model.\n",
    "             \n",
    "             \n",
    "- Reason: gives good cross-validation scores. There's slight overfitting, suggested by the 11% gap between the cross-validation scores and the average training fold scores, which can be improved if not limited by PC ram.\n",
    "\n",
    "             \n",
    "- Training set performance (average of k-folds): accuracy 0.968 kappa 0.968  \n",
    "\n",
    "             \n",
    "- Cross validation performance: accuracy 0.856 kappa 0.8554\n",
    "\n",
    "  \n",
    "- Test set performance: \n",
    "\n",
    "  - mean positional error 8.579 m\n",
    "  - 25th percentile       1.466 m\n",
    "  - 50th percentile       5.551 m\n",
    "  - 75th percentile       11.218 m\n",
    "  - 95th percentile       28.303 m\n",
    "  - 100th percentile      94.208 m\n",
    "  - Building hitrate      100%\n",
    "  - Floor hitrate         90.4%"
   ]
  },
  {
   "cell_type": "markdown",
   "metadata": {},
   "source": [
    "# Imports"
   ]
  },
  {
   "cell_type": "code",
   "execution_count": 2,
   "metadata": {},
   "outputs": [],
   "source": [
    "import numpy as np\n",
    "import matplotlib.pyplot as plt\n",
    "import pandas as pd\n",
    "import time\n",
    "import glob\n",
    "import math\n",
    "import pickle"
   ]
  },
  {
   "cell_type": "markdown",
   "metadata": {},
   "source": [
    "# Import Data"
   ]
  },
  {
   "cell_type": "code",
   "execution_count": 3,
   "metadata": {},
   "outputs": [],
   "source": [
    "# training/validation set\n",
    "train_set = pd.read_csv(\"UJIIndoorLoc_trainingData.csv\")\n",
    "\n",
    "# test set\n",
    "test_set = pd.read_csv(\"UJIIndoorLoc_validationData.csv\")"
   ]
  },
  {
   "cell_type": "markdown",
   "metadata": {},
   "source": [
    "# Evaluate Data"
   ]
  },
  {
   "cell_type": "markdown",
   "metadata": {},
   "source": [
    "Training/validation Set"
   ]
  },
  {
   "cell_type": "code",
   "execution_count": 4,
   "metadata": {},
   "outputs": [
    {
     "data": {
      "text/plain": [
       "array([3, 2, 4, 1, 0], dtype=int64)"
      ]
     },
     "execution_count": 4,
     "metadata": {},
     "output_type": "execute_result"
    }
   ],
   "source": [
    "train_set.loc[train_set[\"BUILDINGID\"] == 0][\"FLOOR\"].unique() # building 0 has 4 floors\n"
   ]
  },
  {
   "cell_type": "code",
   "execution_count": 5,
   "metadata": {},
   "outputs": [
    {
     "data": {
      "text/plain": [
       "array([2, 0, 1, 3], dtype=int64)"
      ]
     },
     "execution_count": 5,
     "metadata": {},
     "output_type": "execute_result"
    }
   ],
   "source": [
    "train_set.loc[train_set[\"BUILDINGID\"] == 1][\"FLOOR\"].unique() # building 1 has 4 floors"
   ]
  },
  {
   "cell_type": "code",
   "execution_count": 6,
   "metadata": {},
   "outputs": [
    {
     "data": {
      "text/plain": [
       "array([3, 2, 4, 1, 0], dtype=int64)"
      ]
     },
     "execution_count": 6,
     "metadata": {},
     "output_type": "execute_result"
    }
   ],
   "source": [
    "train_set.loc[train_set[\"BUILDINGID\"] == 2][\"FLOOR\"].unique() # building 2 has 5 floors"
   ]
  },
  {
   "cell_type": "code",
   "execution_count": 7,
   "metadata": {},
   "outputs": [
    {
     "data": {
      "text/plain": [
       "array(['WAP001', 'WAP002', 'WAP003', 'WAP004', 'WAP005', 'WAP006',\n",
       "       'WAP007', 'WAP008', 'WAP009', 'WAP010', 'WAP011', 'WAP012',\n",
       "       'WAP013', 'WAP014', 'WAP015', 'WAP016', 'WAP017', 'WAP018',\n",
       "       'WAP019', 'WAP020', 'WAP021', 'WAP022', 'WAP023', 'WAP024',\n",
       "       'WAP025', 'WAP026', 'WAP027', 'WAP028', 'WAP029', 'WAP030',\n",
       "       'WAP031', 'WAP032', 'WAP033', 'WAP034', 'WAP035', 'WAP036',\n",
       "       'WAP037', 'WAP038', 'WAP039', 'WAP040', 'WAP041', 'WAP042',\n",
       "       'WAP043', 'WAP044', 'WAP045', 'WAP046', 'WAP047', 'WAP048',\n",
       "       'WAP049', 'WAP050', 'WAP051', 'WAP052', 'WAP053', 'WAP054',\n",
       "       'WAP055', 'WAP056', 'WAP057', 'WAP058', 'WAP059', 'WAP060',\n",
       "       'WAP061', 'WAP062', 'WAP063', 'WAP064', 'WAP065', 'WAP066',\n",
       "       'WAP067', 'WAP068', 'WAP069', 'WAP070', 'WAP071', 'WAP072',\n",
       "       'WAP073', 'WAP074', 'WAP075', 'WAP076', 'WAP077', 'WAP078',\n",
       "       'WAP079', 'WAP080', 'WAP081', 'WAP082', 'WAP083', 'WAP084',\n",
       "       'WAP085', 'WAP086', 'WAP087', 'WAP088', 'WAP089', 'WAP090',\n",
       "       'WAP091', 'WAP092', 'WAP093', 'WAP094', 'WAP095', 'WAP096',\n",
       "       'WAP097', 'WAP098', 'WAP099', 'WAP100', 'WAP101', 'WAP102',\n",
       "       'WAP103', 'WAP104', 'WAP105', 'WAP106', 'WAP107', 'WAP108',\n",
       "       'WAP109', 'WAP110', 'WAP111', 'WAP112', 'WAP113', 'WAP114',\n",
       "       'WAP115', 'WAP116', 'WAP117', 'WAP118', 'WAP119', 'WAP120',\n",
       "       'WAP121', 'WAP122', 'WAP123', 'WAP124', 'WAP125', 'WAP126',\n",
       "       'WAP127', 'WAP128', 'WAP129', 'WAP130', 'WAP131', 'WAP132',\n",
       "       'WAP133', 'WAP134', 'WAP135', 'WAP136', 'WAP137', 'WAP138',\n",
       "       'WAP139', 'WAP140', 'WAP141', 'WAP142', 'WAP143', 'WAP144',\n",
       "       'WAP145', 'WAP146', 'WAP147', 'WAP148', 'WAP149', 'WAP150',\n",
       "       'WAP151', 'WAP152', 'WAP153', 'WAP154', 'WAP155', 'WAP156',\n",
       "       'WAP157', 'WAP158', 'WAP159', 'WAP160', 'WAP161', 'WAP162',\n",
       "       'WAP163', 'WAP164', 'WAP165', 'WAP166', 'WAP167', 'WAP168',\n",
       "       'WAP169', 'WAP170', 'WAP171', 'WAP172', 'WAP173', 'WAP174',\n",
       "       'WAP175', 'WAP176', 'WAP177', 'WAP178', 'WAP179', 'WAP180',\n",
       "       'WAP181', 'WAP182', 'WAP183', 'WAP184', 'WAP185', 'WAP186',\n",
       "       'WAP187', 'WAP188', 'WAP189', 'WAP190', 'WAP191', 'WAP192',\n",
       "       'WAP193', 'WAP194', 'WAP195', 'WAP196', 'WAP197', 'WAP198',\n",
       "       'WAP199', 'WAP200', 'WAP201', 'WAP202', 'WAP203', 'WAP204',\n",
       "       'WAP205', 'WAP206', 'WAP207', 'WAP208', 'WAP209', 'WAP210',\n",
       "       'WAP211', 'WAP212', 'WAP213', 'WAP214', 'WAP215', 'WAP216',\n",
       "       'WAP217', 'WAP218', 'WAP219', 'WAP220', 'WAP221', 'WAP222',\n",
       "       'WAP223', 'WAP224', 'WAP225', 'WAP226', 'WAP227', 'WAP228',\n",
       "       'WAP229', 'WAP230', 'WAP231', 'WAP232', 'WAP233', 'WAP234',\n",
       "       'WAP235', 'WAP236', 'WAP237', 'WAP238', 'WAP239', 'WAP240',\n",
       "       'WAP241', 'WAP242', 'WAP243', 'WAP244', 'WAP245', 'WAP246',\n",
       "       'WAP247', 'WAP248', 'WAP249', 'WAP250', 'WAP251', 'WAP252',\n",
       "       'WAP253', 'WAP254', 'WAP255', 'WAP256', 'WAP257', 'WAP258',\n",
       "       'WAP259', 'WAP260', 'WAP261', 'WAP262', 'WAP263', 'WAP264',\n",
       "       'WAP265', 'WAP266', 'WAP267', 'WAP268', 'WAP269', 'WAP270',\n",
       "       'WAP271', 'WAP272', 'WAP273', 'WAP274', 'WAP275', 'WAP276',\n",
       "       'WAP277', 'WAP278', 'WAP279', 'WAP280', 'WAP281', 'WAP282',\n",
       "       'WAP283', 'WAP284', 'WAP285', 'WAP286', 'WAP287', 'WAP288',\n",
       "       'WAP289', 'WAP290', 'WAP291', 'WAP292', 'WAP293', 'WAP294',\n",
       "       'WAP295', 'WAP296', 'WAP297', 'WAP298', 'WAP299', 'WAP300',\n",
       "       'WAP301', 'WAP302', 'WAP303', 'WAP304', 'WAP305', 'WAP306',\n",
       "       'WAP307', 'WAP308', 'WAP309', 'WAP310', 'WAP311', 'WAP312',\n",
       "       'WAP313', 'WAP314', 'WAP315', 'WAP316', 'WAP317', 'WAP318',\n",
       "       'WAP319', 'WAP320', 'WAP321', 'WAP322', 'WAP323', 'WAP324',\n",
       "       'WAP325', 'WAP326', 'WAP327', 'WAP328', 'WAP329', 'WAP330',\n",
       "       'WAP331', 'WAP332', 'WAP333', 'WAP334', 'WAP335', 'WAP336',\n",
       "       'WAP337', 'WAP338', 'WAP339', 'WAP340', 'WAP341', 'WAP342',\n",
       "       'WAP343', 'WAP344', 'WAP345', 'WAP346', 'WAP347', 'WAP348',\n",
       "       'WAP349', 'WAP350', 'WAP351', 'WAP352', 'WAP353', 'WAP354',\n",
       "       'WAP355', 'WAP356', 'WAP357', 'WAP358', 'WAP359', 'WAP360',\n",
       "       'WAP361', 'WAP362', 'WAP363', 'WAP364', 'WAP365', 'WAP366',\n",
       "       'WAP367', 'WAP368', 'WAP369', 'WAP370', 'WAP371', 'WAP372',\n",
       "       'WAP373', 'WAP374', 'WAP375', 'WAP376', 'WAP377', 'WAP378',\n",
       "       'WAP379', 'WAP380', 'WAP381', 'WAP382', 'WAP383', 'WAP384',\n",
       "       'WAP385', 'WAP386', 'WAP387', 'WAP388', 'WAP389', 'WAP390',\n",
       "       'WAP391', 'WAP392', 'WAP393', 'WAP394', 'WAP395', 'WAP396',\n",
       "       'WAP397', 'WAP398', 'WAP399', 'WAP400', 'WAP401', 'WAP402',\n",
       "       'WAP403', 'WAP404', 'WAP405', 'WAP406', 'WAP407', 'WAP408',\n",
       "       'WAP409', 'WAP410', 'WAP411', 'WAP412', 'WAP413', 'WAP414',\n",
       "       'WAP415', 'WAP416', 'WAP417', 'WAP418', 'WAP419', 'WAP420',\n",
       "       'WAP421', 'WAP422', 'WAP423', 'WAP424', 'WAP425', 'WAP426',\n",
       "       'WAP427', 'WAP428', 'WAP429', 'WAP430', 'WAP431', 'WAP432',\n",
       "       'WAP433', 'WAP434', 'WAP435', 'WAP436', 'WAP437', 'WAP438',\n",
       "       'WAP439', 'WAP440', 'WAP441', 'WAP442', 'WAP443', 'WAP444',\n",
       "       'WAP445', 'WAP446', 'WAP447', 'WAP448', 'WAP449', 'WAP450',\n",
       "       'WAP451', 'WAP452', 'WAP453', 'WAP454', 'WAP455', 'WAP456',\n",
       "       'WAP457', 'WAP458', 'WAP459', 'WAP460', 'WAP461', 'WAP462',\n",
       "       'WAP463', 'WAP464', 'WAP465', 'WAP466', 'WAP467', 'WAP468',\n",
       "       'WAP469', 'WAP470', 'WAP471', 'WAP472', 'WAP473', 'WAP474',\n",
       "       'WAP475', 'WAP476', 'WAP477', 'WAP478', 'WAP479', 'WAP480',\n",
       "       'WAP481', 'WAP482', 'WAP483', 'WAP484', 'WAP485', 'WAP486',\n",
       "       'WAP487', 'WAP488', 'WAP489', 'WAP490', 'WAP491', 'WAP492',\n",
       "       'WAP493', 'WAP494', 'WAP495', 'WAP496', 'WAP497', 'WAP498',\n",
       "       'WAP499', 'WAP500', 'WAP501', 'WAP502', 'WAP503', 'WAP504',\n",
       "       'WAP505', 'WAP506', 'WAP507', 'WAP508', 'WAP509', 'WAP510',\n",
       "       'WAP511', 'WAP512', 'WAP513', 'WAP514', 'WAP515', 'WAP516',\n",
       "       'WAP517', 'WAP518', 'WAP519', 'WAP520', 'LONGITUDE', 'LATITUDE',\n",
       "       'FLOOR', 'BUILDINGID', 'SPACEID', 'RELATIVEPOSITION', 'USERID',\n",
       "       'PHONEID', 'TIMESTAMP'], dtype=object)"
      ]
     },
     "execution_count": 7,
     "metadata": {},
     "output_type": "execute_result"
    }
   ],
   "source": [
    "train_set.columns.values"
   ]
  },
  {
   "cell_type": "code",
   "execution_count": 13,
   "metadata": {
    "scrolled": true
   },
   "outputs": [
    {
     "data": {
      "image/png": "[encoded data removed]",
      "text/plain": [
       "<Figure size 432x288 with 1 Axes>"
      ]
     },
     "metadata": {},
     "output_type": "display_data"
    }
   ],
   "source": [
    "plt.hist(train_set.loc[train_set[\"BUILDINGID\"] == 0][\"LONGITUDE\"])\n",
    "plt.show()\n",
    "# Almost all fingerprints were collected right outside the door to each \n",
    "# fingerprint's SPACEID location.\n",
    "# Building 0 fingerprints were collected by just 2 devices (and 2 separate \n",
    "# users). Not a lot of variety in different devices."
   ]
  },
  {
   "cell_type": "code",
   "execution_count": 15,
   "metadata": {},
   "outputs": [
    {
     "data": {
      "image/png": "[encoded data removed]",
      "text/plain": [
       "<Figure size 432x288 with 1 Axes>"
      ]
     },
     "metadata": {},
     "output_type": "display_data"
    }
   ],
   "source": [
    "plt.hist(train_set.loc[train_set[\"BUILDINGID\"] == 1][\"LONGITUDE\"])\n",
    "plt.show()\n",
    "# Most fingerprints were collected right outside the door to each fingerprint's\n",
    "# SPACEID location."
   ]
  },
  {
   "cell_type": "code",
   "execution_count": 17,
   "metadata": {},
   "outputs": [
    {
     "data": {
      "image/png": "[encoded data removed]",
      "text/plain": [
       "<Figure size 432x288 with 1 Axes>"
      ]
     },
     "metadata": {},
     "output_type": "display_data"
    }
   ],
   "source": [
    "plt.hist(train_set.loc[train_set[\"BUILDINGID\"] == 2][\"LONGITUDE\"])\n",
    "plt.show()\n",
    "# Most fingerprints were collected right outside the door to each fingerprint's\n",
    "# SPACEID location."
   ]
  },
  {
   "cell_type": "code",
   "execution_count": 19,
   "metadata": {},
   "outputs": [
    {
     "data": {
      "image/png": "[encoded data removed]",
      "text/plain": [
       "<Figure size 432x288 with 1 Axes>"
      ]
     },
     "metadata": {},
     "output_type": "display_data"
    }
   ],
   "source": [
    "plt.hist(train_set[\"LONGITUDE\"])\n",
    "plt.show()\n",
    "# Most fingerprints were collected right outside the door to each fingerprint's\n",
    "# SPACEID location."
   ]
  },
  {
   "cell_type": "code",
   "execution_count": 20,
   "metadata": {},
   "outputs": [
    {
     "data": {
      "text/plain": [
       "False"
      ]
     },
     "execution_count": 20,
     "metadata": {},
     "output_type": "execute_result"
    }
   ],
   "source": [
    "# check for missing values\n",
    "pd.isnull(train_set)\n",
    "pd.isnull(train_set).values.any()\n",
    "# No missing values "
   ]
  },
  {
   "cell_type": "markdown",
   "metadata": {},
   "source": [
    "Test Set"
   ]
  },
  {
   "cell_type": "code",
   "execution_count": 21,
   "metadata": {},
   "outputs": [
    {
     "data": {
      "text/plain": [
       "array([2, 1, 0, 3], dtype=int64)"
      ]
     },
     "execution_count": 21,
     "metadata": {},
     "output_type": "execute_result"
    }
   ],
   "source": [
    "test_set.loc[test_set[\"BUILDINGID\"] == 0][\"FLOOR\"].unique() # building 0 has 4 floors"
   ]
  },
  {
   "cell_type": "code",
   "execution_count": 22,
   "metadata": {},
   "outputs": [
    {
     "data": {
      "text/plain": [
       "array([1, 3, 2, 0], dtype=int64)"
      ]
     },
     "execution_count": 22,
     "metadata": {},
     "output_type": "execute_result"
    }
   ],
   "source": [
    "test_set.loc[test_set[\"BUILDINGID\"] == 1][\"FLOOR\"].unique() # building 1 has 4 floors"
   ]
  },
  {
   "cell_type": "code",
   "execution_count": 23,
   "metadata": {},
   "outputs": [
    {
     "data": {
      "text/plain": [
       "array([4, 2, 3, 0, 1], dtype=int64)"
      ]
     },
     "execution_count": 23,
     "metadata": {},
     "output_type": "execute_result"
    }
   ],
   "source": [
    "test_set.loc[test_set[\"BUILDINGID\"] == 2][\"FLOOR\"].unique() # building 2 has 5 floors"
   ]
  },
  {
   "cell_type": "code",
   "execution_count": 24,
   "metadata": {},
   "outputs": [
    {
     "data": {
      "text/plain": [
       "array(['WAP001', 'WAP002', 'WAP003', 'WAP004', 'WAP005', 'WAP006',\n",
       "       'WAP007', 'WAP008', 'WAP009', 'WAP010', 'WAP011', 'WAP012',\n",
       "       'WAP013', 'WAP014', 'WAP015', 'WAP016', 'WAP017', 'WAP018',\n",
       "       'WAP019', 'WAP020', 'WAP021', 'WAP022', 'WAP023', 'WAP024',\n",
       "       'WAP025', 'WAP026', 'WAP027', 'WAP028', 'WAP029', 'WAP030',\n",
       "       'WAP031', 'WAP032', 'WAP033', 'WAP034', 'WAP035', 'WAP036',\n",
       "       'WAP037', 'WAP038', 'WAP039', 'WAP040', 'WAP041', 'WAP042',\n",
       "       'WAP043', 'WAP044', 'WAP045', 'WAP046', 'WAP047', 'WAP048',\n",
       "       'WAP049', 'WAP050', 'WAP051', 'WAP052', 'WAP053', 'WAP054',\n",
       "       'WAP055', 'WAP056', 'WAP057', 'WAP058', 'WAP059', 'WAP060',\n",
       "       'WAP061', 'WAP062', 'WAP063', 'WAP064', 'WAP065', 'WAP066',\n",
       "       'WAP067', 'WAP068', 'WAP069', 'WAP070', 'WAP071', 'WAP072',\n",
       "       'WAP073', 'WAP074', 'WAP075', 'WAP076', 'WAP077', 'WAP078',\n",
       "       'WAP079', 'WAP080', 'WAP081', 'WAP082', 'WAP083', 'WAP084',\n",
       "       'WAP085', 'WAP086', 'WAP087', 'WAP088', 'WAP089', 'WAP090',\n",
       "       'WAP091', 'WAP092', 'WAP093', 'WAP094', 'WAP095', 'WAP096',\n",
       "       'WAP097', 'WAP098', 'WAP099', 'WAP100', 'WAP101', 'WAP102',\n",
       "       'WAP103', 'WAP104', 'WAP105', 'WAP106', 'WAP107', 'WAP108',\n",
       "       'WAP109', 'WAP110', 'WAP111', 'WAP112', 'WAP113', 'WAP114',\n",
       "       'WAP115', 'WAP116', 'WAP117', 'WAP118', 'WAP119', 'WAP120',\n",
       "       'WAP121', 'WAP122', 'WAP123', 'WAP124', 'WAP125', 'WAP126',\n",
       "       'WAP127', 'WAP128', 'WAP129', 'WAP130', 'WAP131', 'WAP132',\n",
       "       'WAP133', 'WAP134', 'WAP135', 'WAP136', 'WAP137', 'WAP138',\n",
       "       'WAP139', 'WAP140', 'WAP141', 'WAP142', 'WAP143', 'WAP144',\n",
       "       'WAP145', 'WAP146', 'WAP147', 'WAP148', 'WAP149', 'WAP150',\n",
       "       'WAP151', 'WAP152', 'WAP153', 'WAP154', 'WAP155', 'WAP156',\n",
       "       'WAP157', 'WAP158', 'WAP159', 'WAP160', 'WAP161', 'WAP162',\n",
       "       'WAP163', 'WAP164', 'WAP165', 'WAP166', 'WAP167', 'WAP168',\n",
       "       'WAP169', 'WAP170', 'WAP171', 'WAP172', 'WAP173', 'WAP174',\n",
       "       'WAP175', 'WAP176', 'WAP177', 'WAP178', 'WAP179', 'WAP180',\n",
       "       'WAP181', 'WAP182', 'WAP183', 'WAP184', 'WAP185', 'WAP186',\n",
       "       'WAP187', 'WAP188', 'WAP189', 'WAP190', 'WAP191', 'WAP192',\n",
       "       'WAP193', 'WAP194', 'WAP195', 'WAP196', 'WAP197', 'WAP198',\n",
       "       'WAP199', 'WAP200', 'WAP201', 'WAP202', 'WAP203', 'WAP204',\n",
       "       'WAP205', 'WAP206', 'WAP207', 'WAP208', 'WAP209', 'WAP210',\n",
       "       'WAP211', 'WAP212', 'WAP213', 'WAP214', 'WAP215', 'WAP216',\n",
       "       'WAP217', 'WAP218', 'WAP219', 'WAP220', 'WAP221', 'WAP222',\n",
       "       'WAP223', 'WAP224', 'WAP225', 'WAP226', 'WAP227', 'WAP228',\n",
       "       'WAP229', 'WAP230', 'WAP231', 'WAP232', 'WAP233', 'WAP234',\n",
       "       'WAP235', 'WAP236', 'WAP237', 'WAP238', 'WAP239', 'WAP240',\n",
       "       'WAP241', 'WAP242', 'WAP243', 'WAP244', 'WAP245', 'WAP246',\n",
       "       'WAP247', 'WAP248', 'WAP249', 'WAP250', 'WAP251', 'WAP252',\n",
       "       'WAP253', 'WAP254', 'WAP255', 'WAP256', 'WAP257', 'WAP258',\n",
       "       'WAP259', 'WAP260', 'WAP261', 'WAP262', 'WAP263', 'WAP264',\n",
       "       'WAP265', 'WAP266', 'WAP267', 'WAP268', 'WAP269', 'WAP270',\n",
       "       'WAP271', 'WAP272', 'WAP273', 'WAP274', 'WAP275', 'WAP276',\n",
       "       'WAP277', 'WAP278', 'WAP279', 'WAP280', 'WAP281', 'WAP282',\n",
       "       'WAP283', 'WAP284', 'WAP285', 'WAP286', 'WAP287', 'WAP288',\n",
       "       'WAP289', 'WAP290', 'WAP291', 'WAP292', 'WAP293', 'WAP294',\n",
       "       'WAP295', 'WAP296', 'WAP297', 'WAP298', 'WAP299', 'WAP300',\n",
       "       'WAP301', 'WAP302', 'WAP303', 'WAP304', 'WAP305', 'WAP306',\n",
       "       'WAP307', 'WAP308', 'WAP309', 'WAP310', 'WAP311', 'WAP312',\n",
       "       'WAP313', 'WAP314', 'WAP315', 'WAP316', 'WAP317', 'WAP318',\n",
       "       'WAP319', 'WAP320', 'WAP321', 'WAP322', 'WAP323', 'WAP324',\n",
       "       'WAP325', 'WAP326', 'WAP327', 'WAP328', 'WAP329', 'WAP330',\n",
       "       'WAP331', 'WAP332', 'WAP333', 'WAP334', 'WAP335', 'WAP336',\n",
       "       'WAP337', 'WAP338', 'WAP339', 'WAP340', 'WAP341', 'WAP342',\n",
       "       'WAP343', 'WAP344', 'WAP345', 'WAP346', 'WAP347', 'WAP348',\n",
       "       'WAP349', 'WAP350', 'WAP351', 'WAP352', 'WAP353', 'WAP354',\n",
       "       'WAP355', 'WAP356', 'WAP357', 'WAP358', 'WAP359', 'WAP360',\n",
       "       'WAP361', 'WAP362', 'WAP363', 'WAP364', 'WAP365', 'WAP366',\n",
       "       'WAP367', 'WAP368', 'WAP369', 'WAP370', 'WAP371', 'WAP372',\n",
       "       'WAP373', 'WAP374', 'WAP375', 'WAP376', 'WAP377', 'WAP378',\n",
       "       'WAP379', 'WAP380', 'WAP381', 'WAP382', 'WAP383', 'WAP384',\n",
       "       'WAP385', 'WAP386', 'WAP387', 'WAP388', 'WAP389', 'WAP390',\n",
       "       'WAP391', 'WAP392', 'WAP393', 'WAP394', 'WAP395', 'WAP396',\n",
       "       'WAP397', 'WAP398', 'WAP399', 'WAP400', 'WAP401', 'WAP402',\n",
       "       'WAP403', 'WAP404', 'WAP405', 'WAP406', 'WAP407', 'WAP408',\n",
       "       'WAP409', 'WAP410', 'WAP411', 'WAP412', 'WAP413', 'WAP414',\n",
       "       'WAP415', 'WAP416', 'WAP417', 'WAP418', 'WAP419', 'WAP420',\n",
       "       'WAP421', 'WAP422', 'WAP423', 'WAP424', 'WAP425', 'WAP426',\n",
       "       'WAP427', 'WAP428', 'WAP429', 'WAP430', 'WAP431', 'WAP432',\n",
       "       'WAP433', 'WAP434', 'WAP435', 'WAP436', 'WAP437', 'WAP438',\n",
       "       'WAP439', 'WAP440', 'WAP441', 'WAP442', 'WAP443', 'WAP444',\n",
       "       'WAP445', 'WAP446', 'WAP447', 'WAP448', 'WAP449', 'WAP450',\n",
       "       'WAP451', 'WAP452', 'WAP453', 'WAP454', 'WAP455', 'WAP456',\n",
       "       'WAP457', 'WAP458', 'WAP459', 'WAP460', 'WAP461', 'WAP462',\n",
       "       'WAP463', 'WAP464', 'WAP465', 'WAP466', 'WAP467', 'WAP468',\n",
       "       'WAP469', 'WAP470', 'WAP471', 'WAP472', 'WAP473', 'WAP474',\n",
       "       'WAP475', 'WAP476', 'WAP477', 'WAP478', 'WAP479', 'WAP480',\n",
       "       'WAP481', 'WAP482', 'WAP483', 'WAP484', 'WAP485', 'WAP486',\n",
       "       'WAP487', 'WAP488', 'WAP489', 'WAP490', 'WAP491', 'WAP492',\n",
       "       'WAP493', 'WAP494', 'WAP495', 'WAP496', 'WAP497', 'WAP498',\n",
       "       'WAP499', 'WAP500', 'WAP501', 'WAP502', 'WAP503', 'WAP504',\n",
       "       'WAP505', 'WAP506', 'WAP507', 'WAP508', 'WAP509', 'WAP510',\n",
       "       'WAP511', 'WAP512', 'WAP513', 'WAP514', 'WAP515', 'WAP516',\n",
       "       'WAP517', 'WAP518', 'WAP519', 'WAP520', 'LONGITUDE', 'LATITUDE',\n",
       "       'FLOOR', 'BUILDINGID', 'SPACEID', 'RELATIVEPOSITION', 'USERID',\n",
       "       'PHONEID', 'TIMESTAMP'], dtype=object)"
      ]
     },
     "execution_count": 24,
     "metadata": {},
     "output_type": "execute_result"
    }
   ],
   "source": [
    "test_set.columns.values"
   ]
  },
  {
   "cell_type": "code",
   "execution_count": 25,
   "metadata": {},
   "outputs": [
    {
     "data": {
      "image/png": "[encoded data removed]",
      "text/plain": [
       "<Figure size 432x288 with 1 Axes>"
      ]
     },
     "metadata": {},
     "output_type": "display_data"
    }
   ],
   "source": [
    "plt.hist(test_set.loc[test_set[\"BUILDINGID\"] == 0][\"LONGITUDE\"])\n",
    "plt.show()"
   ]
  },
  {
   "cell_type": "code",
   "execution_count": 26,
   "metadata": {},
   "outputs": [
    {
     "data": {
      "image/png": "[encoded data removed]",
      "text/plain": [
       "<Figure size 432x288 with 1 Axes>"
      ]
     },
     "metadata": {},
     "output_type": "display_data"
    }
   ],
   "source": [
    "plt.hist(test_set.loc[test_set[\"BUILDINGID\"] == 1][\"LONGITUDE\"])\n",
    "plt.show()"
   ]
  },
  {
   "cell_type": "code",
   "execution_count": 27,
   "metadata": {},
   "outputs": [
    {
     "data": {
      "image/png": "[encoded data removed]",
      "text/plain": [
       "<Figure size 432x288 with 1 Axes>"
      ]
     },
     "metadata": {},
     "output_type": "display_data"
    }
   ],
   "source": [
    "plt.hist(test_set.loc[test_set[\"BUILDINGID\"] == 2][\"LONGITUDE\"])\n",
    "plt.show()"
   ]
  },
  {
   "cell_type": "code",
   "execution_count": 28,
   "metadata": {},
   "outputs": [
    {
     "data": {
      "image/png": "[encoded data removed]",
      "text/plain": [
       "<Figure size 432x288 with 1 Axes>"
      ]
     },
     "metadata": {},
     "output_type": "display_data"
    }
   ],
   "source": [
    "plt.hist(test_set[\"LONGITUDE\"])\n",
    "plt.show()"
   ]
  },
  {
   "cell_type": "code",
   "execution_count": 30,
   "metadata": {},
   "outputs": [
    {
     "data": {
      "text/plain": [
       "False"
      ]
     },
     "execution_count": 30,
     "metadata": {},
     "output_type": "execute_result"
    }
   ],
   "source": [
    "# check for missing values\n",
    "pd.isnull(test_set)\n",
    "pd.isnull(test_set).values.any()\n",
    "# No missing values"
   ]
  },
  {
   "cell_type": "markdown",
   "metadata": {},
   "source": [
    "# Preprocess Data and Feature Engineering"
   ]
  },
  {
   "cell_type": "markdown",
   "metadata": {},
   "source": [
    "Training/validation Set"
   ]
  },
  {
   "cell_type": "code",
   "execution_count": 31,
   "metadata": {},
   "outputs": [],
   "source": [
    "# Fingerprint data representation: positive-value representation for all WAPs.\n",
    "# Original representation: -104 to 0 (weak to strong), 100 for no signal.\n",
    "# New represenation: 1 to 105 (weak to strong), 0 for no signal.\n",
    "train_set.iloc[:, 0:520].min().min() # minimum WAP is -104 dBm\n",
    "train_set_P = train_set.copy()\n",
    "train_set_P.iloc[:, 0:520] = np.where(train_set_P.iloc[:, 0:520] <= 0, \n",
    "                train_set_P.iloc[:, 0:520] + 105, \n",
    "                train_set_P.iloc[:, 0:520] - 100) "
   ]
  },
  {
   "cell_type": "code",
   "execution_count": 32,
   "metadata": {},
   "outputs": [],
   "source": [
    "# Feature Scaling - do not center - destroys sparse structure of\n",
    "# this data. There's also no need to normalize the WAPs, since they're all on\n",
    "# the same scale already."
   ]
  },
  {
   "cell_type": "code",
   "execution_count": 33,
   "metadata": {},
   "outputs": [
    {
     "data": {
      "text/plain": [
       "1995"
      ]
     },
     "execution_count": 33,
     "metadata": {},
     "output_type": "execute_result"
    }
   ],
   "source": [
    "# Create a single label for the model to predict. FLOOR, LATITUDE, FLOOR, and \n",
    "# BUILDINGID pinpoints the exact location of a user inside a building. Stack \n",
    "# train set and test set first before assigning unique location so that \n",
    "# identical locations are assigned the same UNIQUELOCATION value.\n",
    "combined = pd.concat([train_set_P, test_set]) # stack vertically\n",
    "combined = combined.assign(UNIQUELOCATION = (combined['LONGITUDE'].astype(str) + '_' + combined['LATITUDE'].astype(str) + '_' + combined['FLOOR'].astype(str) + '_' + combined['BUILDINGID'].astype(str)).astype('category').cat.codes)\n",
    "len(combined[\"UNIQUELOCATION\"].unique()) # 1995 unique locations"
   ]
  },
  {
   "cell_type": "code",
   "execution_count": 34,
   "metadata": {},
   "outputs": [],
   "source": [
    "# split again\n",
    "train_set_PU = combined.iloc[0:19937, :]\n",
    "test_set_U = combined.iloc[19937:21048, :]"
   ]
  },
  {
   "cell_type": "code",
   "execution_count": 35,
   "metadata": {},
   "outputs": [
    {
     "name": "stderr",
     "output_type": "stream",
     "text": [
      "C:\\Users\\Litan Li\\AppData\\Local\\Continuum\\anaconda3\\lib\\site-packages\\ipykernel_launcher.py:2: SettingWithCopyWarning: \n",
      "A value is trying to be set on a copy of a slice from a DataFrame.\n",
      "Try using .loc[row_indexer,col_indexer] = value instead\n",
      "\n",
      "See the caveats in the documentation: http://pandas.pydata.org/pandas-docs/stable/indexing.html#indexing-view-versus-copy\n",
      "  \n"
     ]
    },
    {
     "data": {
      "text/plain": [
       "WAP001                 int64\n",
       "WAP002                 int64\n",
       "WAP003                 int64\n",
       "WAP004                 int64\n",
       "WAP005                 int64\n",
       "WAP006                 int64\n",
       "WAP007                 int64\n",
       "WAP008                 int64\n",
       "WAP009                 int64\n",
       "WAP010                 int64\n",
       "WAP011                 int64\n",
       "WAP012                 int64\n",
       "WAP013                 int64\n",
       "WAP014                 int64\n",
       "WAP015                 int64\n",
       "WAP016                 int64\n",
       "WAP017                 int64\n",
       "WAP018                 int64\n",
       "WAP019                 int64\n",
       "WAP020                 int64\n",
       "WAP021                 int64\n",
       "WAP022                 int64\n",
       "WAP023                 int64\n",
       "WAP024                 int64\n",
       "WAP025                 int64\n",
       "WAP026                 int64\n",
       "WAP027                 int64\n",
       "WAP028                 int64\n",
       "WAP029                 int64\n",
       "WAP030                 int64\n",
       "                      ...   \n",
       "WAP501                 int64\n",
       "WAP502                 int64\n",
       "WAP503                 int64\n",
       "WAP504                 int64\n",
       "WAP505                 int64\n",
       "WAP506                 int64\n",
       "WAP507                 int64\n",
       "WAP508                 int64\n",
       "WAP509                 int64\n",
       "WAP510                 int64\n",
       "WAP511                 int64\n",
       "WAP512                 int64\n",
       "WAP513                 int64\n",
       "WAP514                 int64\n",
       "WAP515                 int64\n",
       "WAP516                 int64\n",
       "WAP517                 int64\n",
       "WAP518                 int64\n",
       "WAP519                 int64\n",
       "WAP520                 int64\n",
       "LONGITUDE            float64\n",
       "LATITUDE             float64\n",
       "FLOOR                  int64\n",
       "BUILDINGID             int64\n",
       "SPACEID                int64\n",
       "RELATIVEPOSITION       int64\n",
       "USERID                 int64\n",
       "PHONEID                int64\n",
       "TIMESTAMP              int64\n",
       "UNIQUELOCATION      category\n",
       "Length: 530, dtype: object"
      ]
     },
     "execution_count": 35,
     "metadata": {},
     "output_type": "execute_result"
    }
   ],
   "source": [
    "# Change variable types\n",
    "train_set_PU[\"UNIQUELOCATION\"] = train_set_PU[\"UNIQUELOCATION\"].astype(\"category\")\n",
    "train_set_PU.dtypes"
   ]
  },
  {
   "cell_type": "code",
   "execution_count": 36,
   "metadata": {},
   "outputs": [],
   "source": [
    "X_train = train_set_PU.iloc[:, 0:520]\n",
    "y_train = train_set_PU.iloc[:, 520:530]"
   ]
  },
  {
   "cell_type": "markdown",
   "metadata": {},
   "source": [
    "Test Set"
   ]
  },
  {
   "cell_type": "code",
   "execution_count": 37,
   "metadata": {},
   "outputs": [],
   "source": [
    "# Fingerprint data representation\n",
    "test_set_PU = test_set_U.copy()\n",
    "test_set_PU.iloc[:, 0:520] = np.where(test_set_PU.iloc[:, 0:520] <= 0, test_set_PU.iloc[:, 0:520] + 105, test_set_PU.iloc[:, 0:520] - 100) "
   ]
  },
  {
   "cell_type": "code",
   "execution_count": 38,
   "metadata": {},
   "outputs": [],
   "source": [
    "# Feature Scaling - do not center this data - destroys sparse structure of\n",
    "# this data. There's also no need to normalize the WAPs, since they're all on\n",
    "# the same scale already."
   ]
  },
  {
   "cell_type": "code",
   "execution_count": 40,
   "metadata": {},
   "outputs": [
    {
     "data": {
      "text/plain": [
       "WAP001                 int64\n",
       "WAP002                 int64\n",
       "WAP003                 int64\n",
       "WAP004                 int64\n",
       "WAP005                 int64\n",
       "WAP006                 int64\n",
       "WAP007                 int64\n",
       "WAP008                 int64\n",
       "WAP009                 int64\n",
       "WAP010                 int64\n",
       "WAP011                 int64\n",
       "WAP012                 int64\n",
       "WAP013                 int64\n",
       "WAP014                 int64\n",
       "WAP015                 int64\n",
       "WAP016                 int64\n",
       "WAP017                 int64\n",
       "WAP018                 int64\n",
       "WAP019                 int64\n",
       "WAP020                 int64\n",
       "WAP021                 int64\n",
       "WAP022                 int64\n",
       "WAP023                 int64\n",
       "WAP024                 int64\n",
       "WAP025                 int64\n",
       "WAP026                 int64\n",
       "WAP027                 int64\n",
       "WAP028                 int64\n",
       "WAP029                 int64\n",
       "WAP030                 int64\n",
       "                      ...   \n",
       "WAP501                 int64\n",
       "WAP502                 int64\n",
       "WAP503                 int64\n",
       "WAP504                 int64\n",
       "WAP505                 int64\n",
       "WAP506                 int64\n",
       "WAP507                 int64\n",
       "WAP508                 int64\n",
       "WAP509                 int64\n",
       "WAP510                 int64\n",
       "WAP511                 int64\n",
       "WAP512                 int64\n",
       "WAP513                 int64\n",
       "WAP514                 int64\n",
       "WAP515                 int64\n",
       "WAP516                 int64\n",
       "WAP517                 int64\n",
       "WAP518                 int64\n",
       "WAP519                 int64\n",
       "WAP520                 int64\n",
       "LONGITUDE            float64\n",
       "LATITUDE             float64\n",
       "FLOOR                  int64\n",
       "BUILDINGID             int64\n",
       "SPACEID                int64\n",
       "RELATIVEPOSITION       int64\n",
       "USERID                 int64\n",
       "PHONEID                int64\n",
       "TIMESTAMP              int64\n",
       "UNIQUELOCATION      category\n",
       "Length: 530, dtype: object"
      ]
     },
     "execution_count": 40,
     "metadata": {},
     "output_type": "execute_result"
    }
   ],
   "source": [
    "test_set_PU[\"UNIQUELOCATION\"] = test_set_PU[\"UNIQUELOCATION\"].astype(\"category\")\n",
    "test_set_PU.dtypes"
   ]
  },
  {
   "cell_type": "code",
   "execution_count": 41,
   "metadata": {},
   "outputs": [],
   "source": [
    "X_test = test_set_PU.iloc[:, 0:520]\n",
    "y_test = test_set_PU.iloc[:, 520:530]"
   ]
  },
  {
   "cell_type": "code",
   "execution_count": 42,
   "metadata": {},
   "outputs": [],
   "source": [
    "# Create a reference table for looking up the LONGITUDE, LATITUDE, FLOOR, and \n",
    "# BUILDINGID associated with each UNIQUELOCATION value.\n",
    "ref_table = pd.concat([y_train.iloc[:, [0,1,2,3,9]], y_test.iloc[:, [0,1,2,3,9]]])\n",
    "ref_table = ref_table.drop_duplicates()"
   ]
  },
  {
   "cell_type": "code",
   "execution_count": 43,
   "metadata": {},
   "outputs": [],
   "source": [
    "#--- save data ---#\n",
    "def save_data(dataframe, filename):\n",
    "    file_present = glob.glob(filename) # boolean, file already present?\n",
    "    if not file_present:\n",
    "        dataframe.to_csv(filename)\n",
    "    else:\n",
    "        print('WARNING: This file already exists.')"
   ]
  },
  {
   "cell_type": "code",
   "execution_count": null,
   "metadata": {},
   "outputs": [],
   "source": [
    "#save_data(X_train, 'X_train_rf.csv')\n",
    "#save_data(y_train, 'y_train_rf.csv')\n",
    "#save_data(X_test, 'X_test_rf.csv')\n",
    "#save_data(y_test, 'y_test_rf.csv')"
   ]
  },
  {
   "cell_type": "code",
   "execution_count": 44,
   "metadata": {},
   "outputs": [],
   "source": [
    "#--- load data ---#\n",
    "#X_train = pd.read_csv('X_train_rf.csv', index_col = 0)\n",
    "#y_train = pd.read_csv('y_train_rf.csv', index_col = 0)\n",
    "#X_test = pd.read_csv('X_test_rf.csv', index_col = 0)\n",
    "#y_test = pd.read_csv('y_test_rf.csv', index_col = 0)"
   ]
  },
  {
   "cell_type": "code",
   "execution_count": 45,
   "metadata": {},
   "outputs": [],
   "source": [
    "#-- delete unneeded datasets created during preprocessing to free up memory --#\n",
    "del train_set, train_set_P, train_set_PU, test_set, test_set_U, test_set_PU, combined"
   ]
  },
  {
   "cell_type": "markdown",
   "metadata": {},
   "source": [
    "# Train Model(s)"
   ]
  },
  {
   "cell_type": "markdown",
   "metadata": {},
   "source": [
    "Random Forest"
   ]
  },
  {
   "cell_type": "code",
   "execution_count": null,
   "metadata": {},
   "outputs": [],
   "source": [
    "# Using cross-validation, train best random forest model to predict \n",
    "# UNIQUELOCATION. We report the accuracy and kappa on UNIQUELOCATION predictions\n",
    "# for cross-validation and on the training set. We report location error metrics\n",
    "# on the test set.\n",
    "\n",
    "if __name__ == '__main__':\n",
    "    \n",
    "    # Select model\n",
    "    from sklearn.ensemble import RandomForestClassifier\n",
    "    classifier = RandomForestClassifier(random_state = 0)\n",
    "    \n",
    "    # Apply k-fold cross-validation with grid search\n",
    "    from sklearn.model_selection import GridSearchCV\n",
    "    # 'parameters' can be a list of dictionaries for more specificity in \n",
    "    # hyperparamter combinations to attempt.\n",
    "    # hyperparameters: http://scikit-learn.org/stable/modules/generated/sklearn.ensemble.RandomForestClassifier.html\n",
    "    # for a list of hyperparameters tried, see \"tuning_rf.csv\"\n",
    "    hyperparameters = {'criterion': ['gini'], \n",
    "                  'max_depth': [None], \n",
    "                  'max_features': ['sqrt'],\n",
    "                  'n_estimators': [60]}\n",
    "    \n",
    "    from sklearn.metrics import cohen_kappa_score\n",
    "    from sklearn.metrics import make_scorer\n",
    "    scoring = {'accuracy': 'accuracy',\n",
    "               'kappa': make_scorer(cohen_kappa_score)}\n",
    "    \n",
    "    grid = GridSearchCV(estimator = classifier,\n",
    "                        param_grid = hyperparameters,\n",
    "                        scoring = scoring,\n",
    "                        cv = 10,\n",
    "                        refit = 'accuracy', # what best model is based on, and specifies that the best model will be refitted on the whole training set\n",
    "                        return_train_score = True,\n",
    "                        n_jobs = -1) # parallel processing\n",
    "    \n",
    "    tic = time.time()\n",
    "    grid_result = grid.fit(X_train, y_train.iloc[:, 9].squeeze()) # squeeze() makes sure y_train is a Series, as recommended now and required in upcoming sklearn versions.\n",
    "    toc = time.time()\n",
    "    run_time = (toc - tic)/60\n",
    "    import winsound; winsound.Beep(frequency = 1500, duration = 2000) "
   ]
  },
  {
   "cell_type": "code",
   "execution_count": null,
   "metadata": {},
   "outputs": [],
   "source": [
    "#--- cross validation metrics and training set metrics (average of folds) ----#\n",
    "cv_results_ = pd.DataFrame.from_dict(grid_result.cv_results_) \n",
    "cv_results_.insert(loc = 0, column = 'Model', \n",
    "                   value = ['RandomForestClassifier']*cv_results_.shape[0])\n",
    "cv_results_.insert(loc = 60, column = 'mean train - cross_val accuracy', \n",
    "                   value = cv_results_['mean_train_accuracy'] - cv_results_['mean_test_accuracy'])\n",
    "cv_results_.insert(loc = 61, column = 'mean train - cross_val kappa', \n",
    "                   value = cv_results_['mean_train_kappa'] - cv_results_['mean_test_kappa'])\n",
    "with open('tuning_rf.csv', 'a') as f:\n",
    "    cv_results_.to_csv(f, header = True)"
   ]
  },
  {
   "cell_type": "code",
   "execution_count": null,
   "metadata": {},
   "outputs": [],
   "source": [
    "grid_result.best_estimator_\n",
    "grid_result.best_score_\n",
    "grid_result.best_params_"
   ]
  },
  {
   "cell_type": "code",
   "execution_count": null,
   "metadata": {},
   "outputs": [],
   "source": [
    "#--- save best model ---#\n",
    "\n",
    "def save_model(model, model_name):\n",
    "    model_name_present = glob.glob(model_name) # boolean\n",
    "    if not model_name_present:\n",
    "        pickle.dump(grid_result, open(model_name, 'wb'))\n",
    "    else:\n",
    "        print('WARNING: This file already exists.')"
   ]
  },
  {
   "cell_type": "code",
   "execution_count": null,
   "metadata": {},
   "outputs": [],
   "source": [
    "#save_model(grid_result, 'RandomForestClassifier_model.sav')"
   ]
  },
  {
   "cell_type": "code",
   "execution_count": null,
   "metadata": {},
   "outputs": [],
   "source": [
    "#--- load model ---#\n",
    "grid_result = pickle.load(open('RandomForestClassifier_model.sav', 'rb'))"
   ]
  },
  {
   "cell_type": "code",
   "execution_count": null,
   "metadata": {},
   "outputs": [],
   "source": [
    "#--- test set metrics ---#\n",
    "y_pred = grid_result.predict(X_test)\n",
    "np.mean(y_pred == y_test.iloc[:, 9])\n",
    "# Prediction accuracy on UNIQUELOCATION for the test set is very low because \n",
    "# each UNIQUELOCATION value depends on the LONGTITUDE, LATITUDE, FLOOR, and\n",
    "# BUILDINGID, making the values quite unique. UJIIndoorLoc_validation.csv \n",
    "# (from which the test set came from) contains examples taken by users and \n",
    "# phones that did not participate in generating UJIIndoorLoc_train.csv \n",
    "# (training set). That alone may cause the Wi-Fi fingerprint-to-UNIQUELOCATION \n",
    "# mapping quite difficult to capture. However, since what we're really \n",
    "# interested in is how close our predicted positions are to the ground truth, \n",
    "# let's convert the predicted UNIQUELOCATIONS on the test set back to its\n",
    "# associated LONGITUDE, LATITUDE, FLOOR, and BUILDINGID. Then, report the \n",
    "# following metrics for position predictions: Euclidean distances between the \n",
    "# predicted and ground truth positions. Mean positional error and the 25th, 50th, 75th, \n",
    "# 95th, 100th (worst) percentiles of the positional errors. The hitrate for \n",
    "# BUILDINGID and FLOOR."
   ]
  },
  {
   "cell_type": "code",
   "execution_count": null,
   "metadata": {},
   "outputs": [],
   "source": [
    "y_test_pos = y_test.iloc[:, 0:2].values \n",
    "y_test_floor = y_test.iloc[:, 2].values\n",
    "y_test_building = y_test.iloc[:, 3].values\n",
    "\n",
    "dict_loc = {}\n",
    "m_total = ref_table.shape[0]\n",
    "for i in range(m_total):\n",
    "    key = int(ref_table.iloc[i]['UNIQUELOCATION'])\n",
    "    value = ref_table.iloc[i, 0:4].values\n",
    "    dict_loc[key] = value\n",
    "\n",
    "y_pred_pos = np.asarray([dict_loc[i] for i in y_pred])[:, 0:2] \n",
    "y_pred_floor = np.asarray([dict_loc[i] for i in y_pred])[:, 2]\n",
    "y_pred_building = np.asarray([dict_loc[i] for i in y_pred])[:, 3]"
   ]
  },
  {
   "cell_type": "code",
   "execution_count": null,
   "metadata": {},
   "outputs": [],
   "source": [
    "def euclidean(y_test_pos, y_pred_pos):\n",
    "    \"\"\"\n",
    "    Returns the prediction errors based on euclidean distances for each test \n",
    "    example. The prediction error for each test set example is the euclidean \n",
    "    distance between the test set's position (ground truth) and the predicted \n",
    "    position. A \"position\" is a pair of LONGITUDE and LATITUDE values, \n",
    "    e.g. -7515.92, 4.86489e+06.\n",
    "    \n",
    "    Arguments:\n",
    "    y_test_pos -- test set positions represented by numpy array of shape \n",
    "                  (m_test, 2)\n",
    "    y_pred_pos -- predicted test set position represented by numpy array of \n",
    "                  shape (m_test, 2)\n",
    "    \n",
    "    Returns:\n",
    "    D_error -- prediction errors between test set positions and predicted test \n",
    "               set positions represented by numpy array of shape (m_train, 1)\n",
    "    \"\"\"\n",
    "    m_test = y_test_pos.shape[0]\n",
    "    D_error = np.sum((y_test_pos - y_pred_pos)**2, axis = 1)**0.5\n",
    "    \n",
    "    return D_error"
   ]
  },
  {
   "cell_type": "code",
   "execution_count": null,
   "metadata": {},
   "outputs": [],
   "source": [
    "# position errors for each test set example, in order as they appear\n",
    "D_error = euclidean(y_test_pos, y_pred_pos)\n",
    "# sorted   \n",
    "sorted_D_error = sorted(D_error)\n",
    "\n",
    "m_test = y_test.shape[0]\n",
    "mean_error = np.mean(D_error) # meters\n",
    "percentile_25th = sorted_D_error[math.ceil(m_test*0.25) - 1] # -1 since 0-indexed. meters\n",
    "percentile_50th = sorted_D_error[math.ceil(m_test*0.50) - 1] # meters\n",
    "percentile_75th = sorted_D_error[math.ceil(m_test*0.75) - 1] # meters\n",
    "percentile_95th = sorted_D_error[math.ceil(m_test*0.95) - 1] # meters\n",
    "percentile_100th = sorted_D_error[math.ceil(m_test*1.00) - 1] # meters\n",
    "building_hitrate = np.mean(y_test_building == y_pred_building)\n",
    "floor_hitrate = np.mean(y_test_floor == y_pred_floor)"
   ]
  }
 ],
 "metadata": {
  "kernelspec": {
   "display_name": "Python 3",
   "language": "python",
   "name": "python3"
  },
  "language_info": {
   "codemirror_mode": {
    "name": "ipython",
    "version": 3
   },
   "file_extension": ".py",
   "mimetype": "text/x-python",
   "name": "python",
   "nbconvert_exporter": "python",
   "pygments_lexer": "ipython3",
   "version": "3.6.5"
  }
 },
 "nbformat": 4,
 "nbformat_minor": 2
}
